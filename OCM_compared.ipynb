{
 "cells": [
  {
   "cell_type": "code",
   "execution_count": 1,
   "metadata": {},
   "outputs": [],
   "source": [
    "import numpy as np\n",
    "import pandas as pd\n",
    "import matplotlib.pyplot as plt\n",
    "\n",
    "from sklearn.metrics import mean_squared_error, r2_score\n",
    "from sklearn.model_selection import KFold, GridSearchCV\n",
    "\n",
    "from sklearn.linear_model import Lasso, Ridge\n",
    "from sklearn.svm import SVR\n",
    "import sklearn.gaussian_process as gp\n",
    "from sklearn.ensemble import RandomForestRegressor, ExtraTreesRegressor\n",
    "from xgboost import XGBRegressor"
   ]
  },
  {
   "cell_type": "code",
   "execution_count": 2,
   "metadata": {},
   "outputs": [],
   "source": [
    "def data_load(model_type, option=False, data_opt=False):\n",
    "    if model_type == \"conv\":\n",
    "        data = pd.read_csv(\"data/conventional.csv\").drop(\"Unnamed: 0\", axis=1)\n",
    "        feat = data.loc[:, \"Li\":\"Contact time, s\"]\n",
    "        target = data.loc[:, \"Y(C2), %\"]\n",
    "    elif model_type == \"prop\":\n",
    "        data = pd.read_csv(\"data/proposed.csv\").drop(\"Unnamed: 0\", axis=1)\n",
    "        feat = data.loc[:, \"Li\":\"Contact time, s\"]\n",
    "        target = data.loc[:, \"Y(C2), %\"]\n",
    "    elif model_type == \"prop2\":\n",
    "        data = pd.read_csv(\"data/proposed.csv\").drop(\"Unnamed: 0\", axis=1)\n",
    "        feat = data.loc[:, \"1_AW\":\"Contact time, s\"]\n",
    "        target = data.loc[:, \"Y(C2), %\"]\n",
    "    elif model_type == \"prop3\":\n",
    "        data = pd.read_csv(\"data/proposed.csv\").drop(\"Unnamed: 0\", axis=1)\n",
    "        for i in range(8):\n",
    "            data = data.drop([f\"{i+1}_ionization enegy\", f\"{i+1}_AW\", f\"{i+1}_atomic radius\",f\"{i+1}_m. p.\",f\"{i+1}_b. p.\", ], axis =1)\n",
    "        feat = data.loc[:, \"1_electronegativity\":\"Contact time, s\"]\n",
    "        target = data.loc[:, \"Y(C2), %\"]\n",
    "\n",
    "    if option:\n",
    "        idx = (data.loc[:, 'Nr of publication'] <= 421)\n",
    "        feat = feat[idx]\n",
    "        target = target[idx]\n",
    "\n",
    "    if data_opt:\n",
    "        return feat, target, data\n",
    "    else:\n",
    "        return feat, target\n",
    "    \n",
    "    \n",
    "def crossvalid(xx, yy, model, cvf):\n",
    "    err_trn = []\n",
    "    err_tes = []\n",
    "    r_2_tes = []\n",
    "    r_2_trn = []\n",
    "    for train_index, test_index in cvf.split(xx):\n",
    "        x_trn = np.array(xx)[train_index]\n",
    "        x_tes = np.array(xx)[test_index]\n",
    "        y_trn = np.array(yy)[train_index]\n",
    "        y_tes = np.array(yy)[test_index]\n",
    "        model.fit(x_trn, y_trn)\n",
    "        x_trn_pred = model.predict(x_trn)\n",
    "        x_tes_pred = model.predict(x_tes)\n",
    "        \n",
    "        err_tes.append(mean_squared_error(x_tes_pred, y_tes))\n",
    "        err_trn.append(mean_squared_error(x_trn_pred, y_trn))\n",
    "        r_2_tes.append(r2_score(y_tes, x_tes_pred))\n",
    "        r_2_trn.append(r2_score(y_trn, x_trn_pred))\n",
    "    v_tes = np.sqrt(np.array(err_tes))\n",
    "    v_trn = np.sqrt(np.array(err_trn))\n",
    "    print(\"RMSE %1.3f (sd: %1.3f, min:%1.3f, max:%1.3f, det:%1.3f) ... train\" % (\n",
    "        v_trn.mean(), v_trn.std(), v_trn.min(), v_trn.max(), np.array(r_2_trn).mean()))\n",
    "    print(\"RMSE %1.3f (sd: %1.3f, min:%1.3f, max:%1.3f, det:%1.3f) ... test\" % (\n",
    "        v_tes.mean(), v_tes.std(), v_tes.min(), v_tes.max(), np.array(r_2_tes).mean()))\n",
    "    ret = {}\n",
    "    ret['trn_mean'] = v_trn.mean()\n",
    "    ret['trn_std'] = v_trn.std()\n",
    "    ret['trn_r2'] = np.array(r_2_trn).mean()\n",
    "    ret['tes_mean'] = v_tes.mean()\n",
    "    ret['tes_std'] = v_tes.std()\n",
    "    ret['tes_r2'] = np.array(r_2_tes).mean()\n",
    "    return ret\n"
   ]
  },
  {
   "cell_type": "code",
   "execution_count": null,
   "metadata": {},
   "outputs": [
    {
     "name": "stderr",
     "output_type": "stream",
     "text": [
      "/Users/takaomotoshi/opt/anaconda3/lib/python3.7/site-packages/sklearn/linear_model/_coordinate_descent.py:531: ConvergenceWarning: Objective did not converge. You might want to increase the number of iterations. Duality gap: 21844.609565181025, tolerance: 18.535591563361418\n",
      "  positive)\n"
     ]
    },
    {
     "name": "stdout",
     "output_type": "stream",
     "text": [
      "RMSE 5.822 (sd: 0.103, min:5.545, max:5.985, det:0.281) ... train\n",
      "RMSE 5.888 (sd: 0.162, min:5.659, max:6.192, det:0.261) ... test\n",
      "RMSE 5.692 (sd: 0.019, min:5.654, max:5.716, det:0.313) ... train\n",
      "RMSE 5.796 (sd: 0.157, min:5.579, max:6.104, det:0.284) ... test\n"
     ]
    },
    {
     "name": "stderr",
     "output_type": "stream",
     "text": [
      "/Users/takaomotoshi/opt/anaconda3/lib/python3.7/site-packages/joblib/externals/loky/process_executor.py:691: UserWarning: A worker stopped while some jobs were given to the executor. This can be caused by a too short worker timeout or by a memory leak.\n",
      "  \"timeout or by a memory leak.\", UserWarning\n"
     ]
    }
   ],
   "source": [
    "MODEL_TYPES = ['conv', 'prop', 'prop3']\n",
    "errors = {}\n",
    "cvf = KFold(n_splits = 10, random_state = 1126, shuffle = True)\n",
    "log_param1 = [1e-2, 1e-1, 1.0, 10, 1e2]\n",
    "log_param2 = [1.0, 1e-1, 1e-2, 1e-3, 1e-4, 1e-5]\n",
    "log_param3 = [1.0, 10, 1e2, 1e3, 1e4, 1e5]\n",
    "\n",
    "for model_type in MODEL_TYPES:\n",
    "    \n",
    "    feat, target = data_load(model_type)\n",
    "    \n",
    "    #Lasso\n",
    "    cvmodel = GridSearchCV(Lasso(),\n",
    "                           param_grid = {'alpha': log_param1},\n",
    "                           n_jobs = -1)\n",
    "    errors['Lasso_{}'.format(model_type)] = crossvalid(np.array(feat), np.array(target),\n",
    "                                                       cvmodel, cvf)\n",
    "\n",
    "    #Ridge\n",
    "    cvmodel = GridSearchCV(Ridge(),\n",
    "                           param_grid = {'alpha': log_param1},\n",
    "                           n_jobs = -1)\n",
    "    errors['Ridge_{}'.format(model_type)] = crossvalid(np.array(feat), np.array(target),\n",
    "                                                       cvmodel, cvf)\n",
    "\n",
    "    #GPR\n",
    "    kernel = gp.kernels.Matern(nu = 2.5)\n",
    "    cvmodel = GridSearchCV(gp.GaussianProcessRegressor(kernel = kernel,\n",
    "                                                       normalize_y = True,\n",
    "                                                       n_restarts_optimizer = 10,\n",
    "                                                       random_state = 1126),\n",
    "                           param_grid = {'alpha':log_param2},\n",
    "                           n_jobs = -1)\n",
    "    errors['GPR_{}'.format(model_type)] = crossvalid(np.array(feat), np.array(target),\n",
    "                                                     cvmodel, cvf)\n",
    "\n",
    "    #SVR\n",
    "    cvmodel = GridSearchCV(SVR(kernel = 'rbf'),\n",
    "                           param_grid = {'C': log_param3,\n",
    "                                         'gamma':log_param2,\n",
    "                                         'epsilon':log_param1},\n",
    "                           n_jobs = -1)\n",
    "    errors['SVR_{}'.format(model_type)] = crossvalid(np.array(feat), np.array(target), \n",
    "                                                     cvmodel, cvf)\n",
    "\n",
    "    #RFRm\n",
    "    cvmodel = GridSearchCV(RandomForestRegressor(n_jobs = -1, random_state = 1126),\n",
    "                           param_grid = {'n_estimators':[500, 1000]},\n",
    "                           n_jobs = -1)\n",
    "    errors['RFR_{}'.format(model_type)] = crossvalid(np.array(feat), np.array(target),\n",
    "                                                                        cvmodel, cvf)\n",
    "\n",
    "    #ETR\n",
    "    cvmodel = GridSearchCV(ExtraTreesRegressor(n_jobs = -1, random_state = 1126),\n",
    "                           param_grid = {'n_estimators':[500, 1000]},\n",
    "                           n_jobs = -1)\n",
    "    errors['ETR_{}'.format(model_type)] = crossvalid(np.array(feat), np.array(target),\n",
    "                                                     cvmodel, cvf)\n",
    "\n",
    "    #XGB\n",
    "    cvmodel = GridSearchCV(ExtraTreesRegressor(n_jobs = -1, random_state = 1126),\n",
    "                           param_grid = {'n_estimators':[500, 1000]},\n",
    "                           n_jobs = -1)\n",
    "    errors['XGB_{}'.format(model_type)] = crossvalid(np.array(feat), np.array(target),\n",
    "                                                     cvmodel, cvf)\n",
    "                                                     \n"
   ]
  },
  {
   "cell_type": "code",
   "execution_count": null,
   "metadata": {},
   "outputs": [],
   "source": [
    "methods = ['Lasso', 'Ridge','GPR', 'SVR', 'RFR', 'ETR', 'XGB']"
   ]
  },
  {
   "cell_type": "code",
   "execution_count": null,
   "metadata": {},
   "outputs": [],
   "source": [
    "conv = ['{}_conv'.format(m) for m in methods ]\n",
    "prop1 = ['{}_prop'.format(m) for m in methods ]\n",
    "prop3 = ['{}_prop3'.format(m) for m in methods ]\n",
    "\n",
    "conv_mean = [5.888, 5.796, 5.164, 5.294, 3.664, 3.643, 3.643]\n",
    "prop1_mean = [5.884, 5.534, 5.507, 5.044, 3.664, 3.516, 3.516]\n",
    "prop3_mean = [errors[m]['tes_mean'] for m in prop3]\n"
   ]
  },
  {
   "cell_type": "code",
   "execution_count": null,
   "metadata": {},
   "outputs": [],
   "source": [
    "width =0.25\n",
    "ind = np.arange(len(methods))\n",
    "plt.bar(ind,conv_mean, width, color = 'blue', label = 'conventional')\n",
    "plt.bar(ind+width, prop1_mean, width, color = 'red', label = 'Proposed(Exploitative)')\n",
    "plt.bar(ind+2*width, prop3_mean, width, color = 'orange', label = 'Proposed(Explorative)')\n",
    "\n",
    "for x,y in zip(ind, conv_mean):\n",
    "    plt.text(x, y+0.2, '%.2f' % y, ha='center', va= 'bottom', rotation='90', fontsize=10)\n",
    "\n",
    "for x,y in zip(ind, prop1_mean):\n",
    "    plt.text(x+ width, y+0.2, '%.2f' % y, ha='center', va= 'bottom', rotation='90', fontsize=10)  \n",
    "\n",
    "for x,y in zip(ind, prop3_mean):\n",
    "    plt.text(x+2*width, y+0.2, '%.2f' % y, ha='center', va= 'bottom', rotation='90', fontsize=10)  \n",
    "    \n",
    "plt.xticks(ind + width, methods)\n",
    "plt.ylabel('Test RMSE [%]')"
   ]
  },
  {
   "cell_type": "code",
   "execution_count": 4,
   "metadata": {},
   "outputs": [],
   "source": [
    "feat, target = data_load('conv')\n",
    "elem_nums = (feat.loc[:, 'Li':'Bi'] > 0).sum()"
   ]
  },
  {
   "cell_type": "code",
   "execution_count": 5,
   "metadata": {},
   "outputs": [],
   "source": [
    "elem_nums = elem_nums.sort_values()"
   ]
  },
  {
   "cell_type": "code",
   "execution_count": 14,
   "metadata": {},
   "outputs": [
    {
     "data": {
      "image/png": "[encoded data removed]",
      "text/plain": [
       "<Figure size 1296x216 with 1 Axes>"
      ]
     },
     "metadata": {
      "needs_background": "light"
     },
     "output_type": "display_data"
    },
    {
     "data": {
      "image/png": "[encoded data removed]",
      "text/plain": [
       "<Figure size 1296x216 with 1 Axes>"
      ]
     },
     "metadata": {
      "needs_background": "light"
     },
     "output_type": "display_data"
    }
   ],
   "source": [
    "plt.rcParams[\"font.size\"] = 16\n",
    "plt.figure(figsize = (18, 3))\n",
    "idx = elem_nums <= 100\n",
    "x = np.arange(len(elem_nums[idx]))\n",
    "plt.bar(x, elem_nums[idx])\n",
    "plt.xticks(x, elem_nums[idx].index, fontsize =16)\n",
    "plt.xlim([-1, len(elem_nums[idx]) + 1])\n",
    "plt.savefig('out/num_elem_under_100.png')\n",
    "\n",
    "plt.figure(figsize = (18, 3))\n",
    "idx = elem_nums >= 100\n",
    "x = np.arange(len(elem_nums[idx]))\n",
    "plt.bar(x, elem_nums[idx])\n",
    "plt.xticks(x, elem_nums[idx].index, fontsize = 16)\n",
    "plt.xlim([-1, len(elem_nums[idx]) + 1])\n",
    "plt.savefig('out/num_elem_over_100.png')"
   ]
  },
  {
   "cell_type": "code",
   "execution_count": 21,
   "metadata": {},
   "outputs": [
    {
     "data": {
      "text/plain": [
       "(49,)"
      ]
     },
     "execution_count": 21,
     "metadata": {},
     "output_type": "execute_result"
    }
   ],
   "source": [
    "elem_nums[idx].shape"
   ]
  },
  {
   "cell_type": "code",
   "execution_count": 24,
   "metadata": {},
   "outputs": [
    {
     "data": {
      "text/plain": [
       "(49,)"
      ]
     },
     "execution_count": 24,
     "metadata": {},
     "output_type": "execute_result"
    }
   ],
   "source": [
    "np.arange(len(elem_nums[idx])).shape"
   ]
  },
  {
   "cell_type": "code",
   "execution_count": null,
   "metadata": {},
   "outputs": [],
   "source": []
  }
 ],
 "metadata": {
  "kernelspec": {
   "display_name": "Python 3",
   "language": "python",
   "name": "python3"
  },
  "language_info": {
   "codemirror_mode": {
    "name": "ipython",
    "version": 3
   },
   "file_extension": ".py",
   "mimetype": "text/x-python",
   "name": "python",
   "nbconvert_exporter": "python",
   "pygments_lexer": "ipython3",
   "version": "3.7.9"
  }
 },
 "nbformat": 4,
 "nbformat_minor": 4
}
